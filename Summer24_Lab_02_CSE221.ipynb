{
  "nbformat": 4,
  "nbformat_minor": 0,
  "metadata": {
    "colab": {
      "provenance": [],
      "include_colab_link": true
    },
    "kernelspec": {
      "name": "python3",
      "display_name": "Python 3"
    },
    "language_info": {
      "name": "python"
    }
  },
  "cells": [
    {
      "cell_type": "markdown",
      "metadata": {
        "id": "view-in-github",
        "colab_type": "text"
      },
      "source": [
        "<a href=\"https://colab.research.google.com/github/LotifurShabbir/CSE-221_Summer-24/blob/main/Summer24_Lab_02_CSE221.ipynb\" target=\"_parent\"><img src=\"https://colab.research.google.com/assets/colab-badge.svg\" alt=\"Open In Colab\"/></a>"
      ]
    },
    {
      "cell_type": "code",
      "execution_count": null,
      "metadata": {
        "id": "ZvOJ3TgPoDZ9",
        "colab": {
          "base_uri": "https://localhost:8080/"
        },
        "outputId": "59193b9c-3852-454f-f50a-5f9871c7a6a5"
      },
      "outputs": [
        {
          "output_type": "stream",
          "name": "stdout",
          "text": [
            "4 10\n",
            "1 3 5 7\n",
            "2 4\n"
          ]
        }
      ],
      "source": [
        "# Task - 1\n",
        "# this task is not required file input/output\n",
        "\n",
        "n, s = map(int, input().split())\n",
        "lst = list(map(int, input().split()))\n",
        "\n",
        "flag, left, right = 0, 0, len(lst) - 1\n",
        "\n",
        "while left < right:\n",
        "    if lst[left] + lst[right] < s:\n",
        "        left += 1\n",
        "    elif lst[left] + lst[right] > s:\n",
        "        right -= 1\n",
        "    else:\n",
        "        flag = 1\n",
        "        break\n",
        "if flag == 1:\n",
        "    print(left + 1, right + 1)\n",
        "else:\n",
        "    print(\"IMPOSSIBLE\")\n"
      ]
    },
    {
      "cell_type": "code",
      "source": [
        "# Task - 2\n",
        "# this task is not required file input/output\n",
        "n = int(input())\n",
        "n_lst = list(map(int, input().split()))\n",
        "m = int(input())\n",
        "m_lst = list(map(int, input().split()))\n",
        "ans = []\n",
        "\n",
        "l, r = 0, 0\n",
        "\n",
        "while l < n and r < m:\n",
        "    if n_lst[l] < m_lst[r]:\n",
        "        ans.append(n_lst[l])\n",
        "        l += 1\n",
        "    else:\n",
        "        ans.append(m_lst[r])\n",
        "        r += 1\n",
        "\n",
        "# Appendingg the remaining elements from n_lst\n",
        "while l < n:\n",
        "    ans.append(n_lst[l])\n",
        "    l += 1\n",
        "\n",
        "# Appending the remaining elements from m_lst, if any\n",
        "while r < m:\n",
        "    ans.append(m_lst[r])\n",
        "    r += 1\n",
        "\n",
        "print(ans)\n"
      ],
      "metadata": {
        "id": "RrDlZKO-q_dP"
      },
      "execution_count": null,
      "outputs": []
    },
    {
      "cell_type": "code",
      "source": [
        "# Task - 3\n",
        "# this task is not required file input/output\n",
        "t = int(input())\n",
        "lst = []\n",
        "for _ in range(t):\n",
        "    s, e = map(int, input().split())\n",
        "    lst.append([s, e])\n",
        "# misty ekta selection sort. We can also use .sort() That will take NlogN time for sorting.\n",
        "for i in range(len(lst)):\n",
        "    mini = i\n",
        "    for j in range(i + 1, len(lst)):\n",
        "        if lst[j][1] < lst[mini][1]:\n",
        "            mini = j\n",
        "    lst[mini], lst[i] = lst[i], lst[mini]\n",
        "\n",
        "ans_lst = []\n",
        "temp = lst[0]\n",
        "ans_lst.append(temp)\n",
        "for i in range(1, len(lst)):\n",
        "    if lst[i][0] >= temp[1] and lst[i][1] > temp[1]: # used a greedy apprach\n",
        "        ans_lst.append(lst[i])\n",
        "        temp = lst[i]\n",
        "\n",
        "print(len(ans_lst))\n",
        "for i in ans_lst:\n",
        "    print(i[0], end = \" \")\n",
        "    print(i[1])"
      ],
      "metadata": {
        "id": "BtWw8Olxq_ad"
      },
      "execution_count": null,
      "outputs": []
    },
    {
      "cell_type": "code",
      "source": [
        "# Task - 4\n",
        "n, m = map(int,input().split())\n",
        "lst = []\n",
        "for _ in range(n):\n",
        "    s, e = map(int, input().split())\n",
        "    lst.append((s, e))\n",
        "new = sorted(lst, key = lambda item: item[1])\n",
        "count = 0\n",
        "\n",
        "end_time = [0] * m\n",
        "\n",
        "for i in new:\n",
        "    for j in range(m):\n",
        "        if i[0] >= end_time[j]:\n",
        "            count += 1\n",
        "            end_time[j] = i[1]\n",
        "            break\n",
        "print(count)"
      ],
      "metadata": {
        "id": "snq7za6dq_Wl"
      },
      "execution_count": null,
      "outputs": []
    }
  ]
}